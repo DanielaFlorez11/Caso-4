{
 "cells": [
  {
   "cell_type": "markdown",
   "metadata": {},
   "source": [
    "REGRESIÓN MULTINOMIAL\n"
   ]
  },
  {
   "cell_type": "code",
   "execution_count": 1,
   "metadata": {},
   "outputs": [],
   "source": [
    "import numpy as np\n",
    "import pandas as pd\n",
    "import matplotlib.pyplot as plt\n",
    "import seaborn as sns\n",
    "from sklearn.linear_model import LogisticRegression\n",
    "from sklearn.metrics import confusion_matrix, classification_report\n",
    "from sklearn.datasets import load_iris"
   ]
  },
  {
   "cell_type": "code",
   "execution_count": 2,
   "metadata": {},
   "outputs": [
    {
     "data": {
      "text/html": [
       "<div>\n",
       "<style scoped>\n",
       "    .dataframe tbody tr th:only-of-type {\n",
       "        vertical-align: middle;\n",
       "    }\n",
       "\n",
       "    .dataframe tbody tr th {\n",
       "        vertical-align: top;\n",
       "    }\n",
       "\n",
       "    .dataframe thead th {\n",
       "        text-align: right;\n",
       "    }\n",
       "</style>\n",
       "<table border=\"1\" class=\"dataframe\">\n",
       "  <thead>\n",
       "    <tr style=\"text-align: right;\">\n",
       "      <th></th>\n",
       "      <th>sepal length (cm)</th>\n",
       "      <th>sepal width (cm)</th>\n",
       "      <th>petal length (cm)</th>\n",
       "      <th>petal width (cm)</th>\n",
       "      <th>target</th>\n",
       "    </tr>\n",
       "  </thead>\n",
       "  <tbody>\n",
       "    <tr>\n",
       "      <th>0</th>\n",
       "      <td>5.1</td>\n",
       "      <td>3.5</td>\n",
       "      <td>1.4</td>\n",
       "      <td>0.2</td>\n",
       "      <td>0</td>\n",
       "    </tr>\n",
       "    <tr>\n",
       "      <th>1</th>\n",
       "      <td>4.9</td>\n",
       "      <td>3.0</td>\n",
       "      <td>1.4</td>\n",
       "      <td>0.2</td>\n",
       "      <td>0</td>\n",
       "    </tr>\n",
       "    <tr>\n",
       "      <th>2</th>\n",
       "      <td>4.7</td>\n",
       "      <td>3.2</td>\n",
       "      <td>1.3</td>\n",
       "      <td>0.2</td>\n",
       "      <td>0</td>\n",
       "    </tr>\n",
       "    <tr>\n",
       "      <th>3</th>\n",
       "      <td>4.6</td>\n",
       "      <td>3.1</td>\n",
       "      <td>1.5</td>\n",
       "      <td>0.2</td>\n",
       "      <td>0</td>\n",
       "    </tr>\n",
       "    <tr>\n",
       "      <th>4</th>\n",
       "      <td>5.0</td>\n",
       "      <td>3.6</td>\n",
       "      <td>1.4</td>\n",
       "      <td>0.2</td>\n",
       "      <td>0</td>\n",
       "    </tr>\n",
       "    <tr>\n",
       "      <th>145</th>\n",
       "      <td>6.7</td>\n",
       "      <td>3.0</td>\n",
       "      <td>5.2</td>\n",
       "      <td>2.3</td>\n",
       "      <td>2</td>\n",
       "    </tr>\n",
       "    <tr>\n",
       "      <th>146</th>\n",
       "      <td>6.3</td>\n",
       "      <td>2.5</td>\n",
       "      <td>5.0</td>\n",
       "      <td>1.9</td>\n",
       "      <td>2</td>\n",
       "    </tr>\n",
       "    <tr>\n",
       "      <th>147</th>\n",
       "      <td>6.5</td>\n",
       "      <td>3.0</td>\n",
       "      <td>5.2</td>\n",
       "      <td>2.0</td>\n",
       "      <td>2</td>\n",
       "    </tr>\n",
       "    <tr>\n",
       "      <th>148</th>\n",
       "      <td>6.2</td>\n",
       "      <td>3.4</td>\n",
       "      <td>5.4</td>\n",
       "      <td>2.3</td>\n",
       "      <td>2</td>\n",
       "    </tr>\n",
       "    <tr>\n",
       "      <th>149</th>\n",
       "      <td>5.9</td>\n",
       "      <td>3.0</td>\n",
       "      <td>5.1</td>\n",
       "      <td>1.8</td>\n",
       "      <td>2</td>\n",
       "    </tr>\n",
       "  </tbody>\n",
       "</table>\n",
       "</div>"
      ],
      "text/plain": [
       "     sepal length (cm)  sepal width (cm)  petal length (cm)  petal width (cm)  \\\n",
       "0                  5.1               3.5                1.4               0.2   \n",
       "1                  4.9               3.0                1.4               0.2   \n",
       "2                  4.7               3.2                1.3               0.2   \n",
       "3                  4.6               3.1                1.5               0.2   \n",
       "4                  5.0               3.6                1.4               0.2   \n",
       "145                6.7               3.0                5.2               2.3   \n",
       "146                6.3               2.5                5.0               1.9   \n",
       "147                6.5               3.0                5.2               2.0   \n",
       "148                6.2               3.4                5.4               2.3   \n",
       "149                5.9               3.0                5.1               1.8   \n",
       "\n",
       "     target  \n",
       "0         0  \n",
       "1         0  \n",
       "2         0  \n",
       "3         0  \n",
       "4         0  \n",
       "145       2  \n",
       "146       2  \n",
       "147       2  \n",
       "148       2  \n",
       "149       2  "
      ]
     },
     "execution_count": 2,
     "metadata": {},
     "output_type": "execute_result"
    }
   ],
   "source": [
    "iris = load_iris()\n",
    "iris_data = iris.data\n",
    "iris_target = iris.target\n",
    "iris_df = pd.DataFrame(data=iris_data, columns=iris.feature_names)\n",
    "iris_df['target'] = iris_target\n",
    "pd.concat([iris_df.head(), iris_df.tail()])"
   ]
  },
  {
   "cell_type": "code",
   "execution_count": 3,
   "metadata": {},
   "outputs": [
    {
     "data": {
      "text/plain": [
       "False"
      ]
     },
     "execution_count": 3,
     "metadata": {},
     "output_type": "execute_result"
    }
   ],
   "source": [
    "def check_null(df):\n",
    "    return False\n",
    "check_null(iris_df)"
   ]
  },
  {
   "cell_type": "markdown",
   "metadata": {},
   "source": [
    "Se analizaron los datos en primer lugar y se halló que no faltaba ninguno"
   ]
  },
  {
   "cell_type": "code",
   "execution_count": 4,
   "metadata": {},
   "outputs": [
    {
     "name": "stderr",
     "output_type": "stream",
     "text": [
      "c:\\Users\\danie\\AppData\\Local\\Programs\\Python\\Python311\\Lib\\site-packages\\seaborn\\_oldcore.py:1119: FutureWarning: use_inf_as_na option is deprecated and will be removed in a future version. Convert inf values to NaN before operating instead.\n",
      "  with pd.option_context('mode.use_inf_as_na', True):\n"
     ]
    },
    {
     "data": {
      "image/png": "[encoded data removed]",
      "text/plain": [
       "<Figure size 500x500 with 1 Axes>"
      ]
     },
     "metadata": {},
     "output_type": "display_data"
    }
   ],
   "source": [
    "sns.displot(x='sepal length (cm)', data=iris_df, color='red', kde=True)\n",
    "plt.xlabel('Longitud del Sépalo (cm)')\n",
    "plt.ylabel('Frecuencia')\n",
    "plt.title('Distribución de la Longitud del Sépalo en el conjunto de datos Iris')\n",
    "plt.show()"
   ]
  },
  {
   "cell_type": "code",
   "execution_count": 46,
   "metadata": {},
   "outputs": [
    {
     "data": {
      "image/png": "[encoded data removed]",
      "text/plain": [
       "<Figure size 500x500 with 1 Axes>"
      ]
     },
     "metadata": {},
     "output_type": "display_data"
    }
   ],
   "source": [
    "iris_df['target_name'] = iris.target_names[iris.target]\n",
    "iris_data_with_target = iris_df[['sepal length (cm)', 'sepal width (cm)', 'petal length (cm)', 'petal width (cm)', 'target_name']]\n",
    "sns.catplot(x=\"target_name\", y=\"petal length (cm)\", data=iris_data_with_target, kind=\"box\")\n",
    "plt.xlabel('Especie')\n",
    "plt.ylabel('Longitud del Pétalo (cm)')\n",
    "plt.title('Relación entre Especie y Longitud del Pétalo')\n",
    "plt.show()"
   ]
  },
  {
   "cell_type": "markdown",
   "metadata": {},
   "source": [
    "Para este apartado se puede apreciar que la distribución de la longitud del sépalo de todos los datos sigue una distribución normal, además los boxplot indican que la especie setosa poseen los pétalos más cortos, le siguen los versicolor y las más largas son las de virginica"
   ]
  },
  {
   "cell_type": "code",
   "execution_count": 47,
   "metadata": {},
   "outputs": [
    {
     "name": "stdout",
     "output_type": "stream",
     "text": [
      "   sepal length (cm)  sepal width (cm)  petal length (cm)  petal width (cm)\n",
      "0                5.1               3.5                1.4               0.2\n",
      "1                4.9               3.0                1.4               0.2\n",
      "2                4.7               3.2                1.3               0.2\n",
      "3                4.6               3.1                1.5               0.2\n",
      "4                5.0               3.6                1.4               0.2\n"
     ]
    }
   ],
   "source": [
    "X = iris_df[['sepal length (cm)', 'sepal width (cm)', 'petal length (cm)', 'petal width (cm)']]\n",
    "print(X.head())"
   ]
  },
  {
   "cell_type": "code",
   "execution_count": 48,
   "metadata": {},
   "outputs": [
    {
     "name": "stdout",
     "output_type": "stream",
     "text": [
      "0    0\n",
      "1    0\n",
      "2    0\n",
      "3    0\n",
      "4    0\n",
      "Name: target, dtype: int32\n"
     ]
    }
   ],
   "source": [
    "y = iris_df['target']\n",
    "print(y.head())"
   ]
  },
  {
   "cell_type": "code",
   "execution_count": 49,
   "metadata": {},
   "outputs": [
    {
     "name": "stdout",
     "output_type": "stream",
     "text": [
      "Forma de X_train: (105, 4)\n",
      "Forma de X_test: (45, 4)\n",
      "Forma de y_train: (105,)\n",
      "Forma de y_test: (45,)\n"
     ]
    }
   ],
   "source": [
    "from sklearn.model_selection import train_test_split\n",
    "X_train, X_test, y_train, y_test = train_test_split(X, y, test_size=0.30, random_state=1)\n",
    "print(\"Forma de X_train:\", X_train.shape)\n",
    "print(\"Forma de X_test:\", X_test.shape)\n",
    "print(\"Forma de y_train:\", y_train.shape)\n",
    "print(\"Forma de y_test:\", y_test.shape)"
   ]
  },
  {
   "cell_type": "code",
   "execution_count": 50,
   "metadata": {},
   "outputs": [
    {
     "data": {
      "text/html": [
       "<style>#sk-container-id-4 {color: black;}#sk-container-id-4 pre{padding: 0;}#sk-container-id-4 div.sk-toggleable {background-color: white;}#sk-container-id-4 label.sk-toggleable__label {cursor: pointer;display: block;width: 100%;margin-bottom: 0;padding: 0.3em;box-sizing: border-box;text-align: center;}#sk-container-id-4 label.sk-toggleable__label-arrow:before {content: \"▸\";float: left;margin-right: 0.25em;color: #696969;}#sk-container-id-4 label.sk-toggleable__label-arrow:hover:before {color: black;}#sk-container-id-4 div.sk-estimator:hover label.sk-toggleable__label-arrow:before {color: black;}#sk-container-id-4 div.sk-toggleable__content {max-height: 0;max-width: 0;overflow: hidden;text-align: left;background-color: #f0f8ff;}#sk-container-id-4 div.sk-toggleable__content pre {margin: 0.2em;color: black;border-radius: 0.25em;background-color: #f0f8ff;}#sk-container-id-4 input.sk-toggleable__control:checked~div.sk-toggleable__content {max-height: 200px;max-width: 100%;overflow: auto;}#sk-container-id-4 input.sk-toggleable__control:checked~label.sk-toggleable__label-arrow:before {content: \"▾\";}#sk-container-id-4 div.sk-estimator input.sk-toggleable__control:checked~label.sk-toggleable__label {background-color: #d4ebff;}#sk-container-id-4 div.sk-label input.sk-toggleable__control:checked~label.sk-toggleable__label {background-color: #d4ebff;}#sk-container-id-4 input.sk-hidden--visually {border: 0;clip: rect(1px 1px 1px 1px);clip: rect(1px, 1px, 1px, 1px);height: 1px;margin: -1px;overflow: hidden;padding: 0;position: absolute;width: 1px;}#sk-container-id-4 div.sk-estimator {font-family: monospace;background-color: #f0f8ff;border: 1px dotted black;border-radius: 0.25em;box-sizing: border-box;margin-bottom: 0.5em;}#sk-container-id-4 div.sk-estimator:hover {background-color: #d4ebff;}#sk-container-id-4 div.sk-parallel-item::after {content: \"\";width: 100%;border-bottom: 1px solid gray;flex-grow: 1;}#sk-container-id-4 div.sk-label:hover label.sk-toggleable__label {background-color: #d4ebff;}#sk-container-id-4 div.sk-serial::before {content: \"\";position: absolute;border-left: 1px solid gray;box-sizing: border-box;top: 0;bottom: 0;left: 50%;z-index: 0;}#sk-container-id-4 div.sk-serial {display: flex;flex-direction: column;align-items: center;background-color: white;padding-right: 0.2em;padding-left: 0.2em;position: relative;}#sk-container-id-4 div.sk-item {position: relative;z-index: 1;}#sk-container-id-4 div.sk-parallel {display: flex;align-items: stretch;justify-content: center;background-color: white;position: relative;}#sk-container-id-4 div.sk-item::before, #sk-container-id-4 div.sk-parallel-item::before {content: \"\";position: absolute;border-left: 1px solid gray;box-sizing: border-box;top: 0;bottom: 0;left: 50%;z-index: -1;}#sk-container-id-4 div.sk-parallel-item {display: flex;flex-direction: column;z-index: 1;position: relative;background-color: white;}#sk-container-id-4 div.sk-parallel-item:first-child::after {align-self: flex-end;width: 50%;}#sk-container-id-4 div.sk-parallel-item:last-child::after {align-self: flex-start;width: 50%;}#sk-container-id-4 div.sk-parallel-item:only-child::after {width: 0;}#sk-container-id-4 div.sk-dashed-wrapped {border: 1px dashed gray;margin: 0 0.4em 0.5em 0.4em;box-sizing: border-box;padding-bottom: 0.4em;background-color: white;}#sk-container-id-4 div.sk-label label {font-family: monospace;font-weight: bold;display: inline-block;line-height: 1.2em;}#sk-container-id-4 div.sk-label-container {text-align: center;}#sk-container-id-4 div.sk-container {/* jupyter's `normalize.less` sets `[hidden] { display: none; }` but bootstrap.min.css set `[hidden] { display: none !important; }` so we also need the `!important` here to be able to override the default hidden behavior on the sphinx rendered scikit-learn.org. See: https://github.com/scikit-learn/scikit-learn/issues/21755 */display: inline-block !important;position: relative;}#sk-container-id-4 div.sk-text-repr-fallback {display: none;}</style><div id=\"sk-container-id-4\" class=\"sk-top-container\"><div class=\"sk-text-repr-fallback\"><pre>LogisticRegression()</pre><b>In a Jupyter environment, please rerun this cell to show the HTML representation or trust the notebook. <br />On GitHub, the HTML representation is unable to render, please try loading this page with nbviewer.org.</b></div><div class=\"sk-container\" hidden><div class=\"sk-item\"><div class=\"sk-estimator sk-toggleable\"><input class=\"sk-toggleable__control sk-hidden--visually\" id=\"sk-estimator-id-4\" type=\"checkbox\" checked><label for=\"sk-estimator-id-4\" class=\"sk-toggleable__label sk-toggleable__label-arrow\">LogisticRegression</label><div class=\"sk-toggleable__content\"><pre>LogisticRegression()</pre></div></div></div></div></div>"
      ],
      "text/plain": [
       "LogisticRegression()"
      ]
     },
     "execution_count": 50,
     "metadata": {},
     "output_type": "execute_result"
    }
   ],
   "source": [
    "from sklearn.linear_model import LogisticRegression  \n",
    "classifier = LogisticRegression()\n",
    "classifier.fit(X_train, y_train)"
   ]
  },
  {
   "cell_type": "code",
   "execution_count": 51,
   "metadata": {},
   "outputs": [
    {
     "data": {
      "text/plain": [
       "array([0, 1, 1, 0, 2, 1, 2, 0, 0, 2, 1, 0, 2, 1, 1, 0, 1, 1, 0, 0, 1, 1,\n",
       "       2, 0, 2, 1, 0, 0, 1, 2, 1, 2, 1, 2, 2, 0, 1, 0, 1, 2, 2, 0, 2, 2,\n",
       "       1])"
      ]
     },
     "execution_count": 51,
     "metadata": {},
     "output_type": "execute_result"
    }
   ],
   "source": [
    "y_pred = classifier.predict(X_test)\n",
    "y_pred"
   ]
  },
  {
   "cell_type": "code",
   "execution_count": 52,
   "metadata": {},
   "outputs": [
    {
     "data": {
      "text/html": [
       "<div>\n",
       "<style scoped>\n",
       "    .dataframe tbody tr th:only-of-type {\n",
       "        vertical-align: middle;\n",
       "    }\n",
       "\n",
       "    .dataframe tbody tr th {\n",
       "        vertical-align: top;\n",
       "    }\n",
       "\n",
       "    .dataframe thead th {\n",
       "        text-align: right;\n",
       "    }\n",
       "</style>\n",
       "<table border=\"1\" class=\"dataframe\">\n",
       "  <thead>\n",
       "    <tr style=\"text-align: right;\">\n",
       "      <th></th>\n",
       "      <th>Actual</th>\n",
       "      <th>Predicted</th>\n",
       "    </tr>\n",
       "  </thead>\n",
       "  <tbody>\n",
       "    <tr>\n",
       "      <th>14</th>\n",
       "      <td>0</td>\n",
       "      <td>0</td>\n",
       "    </tr>\n",
       "    <tr>\n",
       "      <th>98</th>\n",
       "      <td>1</td>\n",
       "      <td>1</td>\n",
       "    </tr>\n",
       "    <tr>\n",
       "      <th>75</th>\n",
       "      <td>1</td>\n",
       "      <td>1</td>\n",
       "    </tr>\n",
       "    <tr>\n",
       "      <th>16</th>\n",
       "      <td>0</td>\n",
       "      <td>0</td>\n",
       "    </tr>\n",
       "    <tr>\n",
       "      <th>131</th>\n",
       "      <td>2</td>\n",
       "      <td>2</td>\n",
       "    </tr>\n",
       "    <tr>\n",
       "      <th>56</th>\n",
       "      <td>1</td>\n",
       "      <td>1</td>\n",
       "    </tr>\n",
       "    <tr>\n",
       "      <th>141</th>\n",
       "      <td>2</td>\n",
       "      <td>2</td>\n",
       "    </tr>\n",
       "    <tr>\n",
       "      <th>44</th>\n",
       "      <td>0</td>\n",
       "      <td>0</td>\n",
       "    </tr>\n",
       "    <tr>\n",
       "      <th>29</th>\n",
       "      <td>0</td>\n",
       "      <td>0</td>\n",
       "    </tr>\n",
       "    <tr>\n",
       "      <th>120</th>\n",
       "      <td>2</td>\n",
       "      <td>2</td>\n",
       "    </tr>\n",
       "    <tr>\n",
       "      <th>94</th>\n",
       "      <td>1</td>\n",
       "      <td>1</td>\n",
       "    </tr>\n",
       "    <tr>\n",
       "      <th>5</th>\n",
       "      <td>0</td>\n",
       "      <td>0</td>\n",
       "    </tr>\n",
       "    <tr>\n",
       "      <th>102</th>\n",
       "      <td>2</td>\n",
       "      <td>2</td>\n",
       "    </tr>\n",
       "    <tr>\n",
       "      <th>51</th>\n",
       "      <td>1</td>\n",
       "      <td>1</td>\n",
       "    </tr>\n",
       "    <tr>\n",
       "      <th>78</th>\n",
       "      <td>1</td>\n",
       "      <td>1</td>\n",
       "    </tr>\n",
       "    <tr>\n",
       "      <th>42</th>\n",
       "      <td>0</td>\n",
       "      <td>0</td>\n",
       "    </tr>\n",
       "    <tr>\n",
       "      <th>92</th>\n",
       "      <td>1</td>\n",
       "      <td>1</td>\n",
       "    </tr>\n",
       "    <tr>\n",
       "      <th>66</th>\n",
       "      <td>1</td>\n",
       "      <td>1</td>\n",
       "    </tr>\n",
       "    <tr>\n",
       "      <th>31</th>\n",
       "      <td>0</td>\n",
       "      <td>0</td>\n",
       "    </tr>\n",
       "    <tr>\n",
       "      <th>35</th>\n",
       "      <td>0</td>\n",
       "      <td>0</td>\n",
       "    </tr>\n",
       "    <tr>\n",
       "      <th>90</th>\n",
       "      <td>1</td>\n",
       "      <td>1</td>\n",
       "    </tr>\n",
       "    <tr>\n",
       "      <th>84</th>\n",
       "      <td>1</td>\n",
       "      <td>1</td>\n",
       "    </tr>\n",
       "    <tr>\n",
       "      <th>77</th>\n",
       "      <td>1</td>\n",
       "      <td>2</td>\n",
       "    </tr>\n",
       "    <tr>\n",
       "      <th>40</th>\n",
       "      <td>0</td>\n",
       "      <td>0</td>\n",
       "    </tr>\n",
       "    <tr>\n",
       "      <th>125</th>\n",
       "      <td>2</td>\n",
       "      <td>2</td>\n",
       "    </tr>\n",
       "    <tr>\n",
       "      <th>99</th>\n",
       "      <td>1</td>\n",
       "      <td>1</td>\n",
       "    </tr>\n",
       "    <tr>\n",
       "      <th>33</th>\n",
       "      <td>0</td>\n",
       "      <td>0</td>\n",
       "    </tr>\n",
       "    <tr>\n",
       "      <th>19</th>\n",
       "      <td>0</td>\n",
       "      <td>0</td>\n",
       "    </tr>\n",
       "    <tr>\n",
       "      <th>73</th>\n",
       "      <td>1</td>\n",
       "      <td>1</td>\n",
       "    </tr>\n",
       "    <tr>\n",
       "      <th>146</th>\n",
       "      <td>2</td>\n",
       "      <td>2</td>\n",
       "    </tr>\n",
       "    <tr>\n",
       "      <th>91</th>\n",
       "      <td>1</td>\n",
       "      <td>1</td>\n",
       "    </tr>\n",
       "    <tr>\n",
       "      <th>135</th>\n",
       "      <td>2</td>\n",
       "      <td>2</td>\n",
       "    </tr>\n",
       "    <tr>\n",
       "      <th>69</th>\n",
       "      <td>1</td>\n",
       "      <td>1</td>\n",
       "    </tr>\n",
       "    <tr>\n",
       "      <th>128</th>\n",
       "      <td>2</td>\n",
       "      <td>2</td>\n",
       "    </tr>\n",
       "    <tr>\n",
       "      <th>114</th>\n",
       "      <td>2</td>\n",
       "      <td>2</td>\n",
       "    </tr>\n",
       "    <tr>\n",
       "      <th>48</th>\n",
       "      <td>0</td>\n",
       "      <td>0</td>\n",
       "    </tr>\n",
       "    <tr>\n",
       "      <th>53</th>\n",
       "      <td>1</td>\n",
       "      <td>1</td>\n",
       "    </tr>\n",
       "    <tr>\n",
       "      <th>28</th>\n",
       "      <td>0</td>\n",
       "      <td>0</td>\n",
       "    </tr>\n",
       "    <tr>\n",
       "      <th>54</th>\n",
       "      <td>1</td>\n",
       "      <td>1</td>\n",
       "    </tr>\n",
       "    <tr>\n",
       "      <th>108</th>\n",
       "      <td>2</td>\n",
       "      <td>2</td>\n",
       "    </tr>\n",
       "    <tr>\n",
       "      <th>112</th>\n",
       "      <td>2</td>\n",
       "      <td>2</td>\n",
       "    </tr>\n",
       "    <tr>\n",
       "      <th>17</th>\n",
       "      <td>0</td>\n",
       "      <td>0</td>\n",
       "    </tr>\n",
       "    <tr>\n",
       "      <th>119</th>\n",
       "      <td>2</td>\n",
       "      <td>2</td>\n",
       "    </tr>\n",
       "    <tr>\n",
       "      <th>103</th>\n",
       "      <td>2</td>\n",
       "      <td>2</td>\n",
       "    </tr>\n",
       "    <tr>\n",
       "      <th>58</th>\n",
       "      <td>1</td>\n",
       "      <td>1</td>\n",
       "    </tr>\n",
       "  </tbody>\n",
       "</table>\n",
       "</div>"
      ],
      "text/plain": [
       "     Actual  Predicted\n",
       "14        0          0\n",
       "98        1          1\n",
       "75        1          1\n",
       "16        0          0\n",
       "131       2          2\n",
       "56        1          1\n",
       "141       2          2\n",
       "44        0          0\n",
       "29        0          0\n",
       "120       2          2\n",
       "94        1          1\n",
       "5         0          0\n",
       "102       2          2\n",
       "51        1          1\n",
       "78        1          1\n",
       "42        0          0\n",
       "92        1          1\n",
       "66        1          1\n",
       "31        0          0\n",
       "35        0          0\n",
       "90        1          1\n",
       "84        1          1\n",
       "77        1          2\n",
       "40        0          0\n",
       "125       2          2\n",
       "99        1          1\n",
       "33        0          0\n",
       "19        0          0\n",
       "73        1          1\n",
       "146       2          2\n",
       "91        1          1\n",
       "135       2          2\n",
       "69        1          1\n",
       "128       2          2\n",
       "114       2          2\n",
       "48        0          0\n",
       "53        1          1\n",
       "28        0          0\n",
       "54        1          1\n",
       "108       2          2\n",
       "112       2          2\n",
       "17        0          0\n",
       "119       2          2\n",
       "103       2          2\n",
       "58        1          1"
      ]
     },
     "execution_count": 52,
     "metadata": {},
     "output_type": "execute_result"
    }
   ],
   "source": [
    "result = pd.DataFrame({'Actual' : y_test, 'Predicted' : y_pred})\n",
    "result"
   ]
  },
  {
   "cell_type": "code",
   "execution_count": 53,
   "metadata": {},
   "outputs": [
    {
     "data": {
      "text/plain": [
       "array([[-0.4337728 ,  0.75700544, -2.24362365, -0.9300095 ],\n",
       "       [ 0.58196284, -0.53636625, -0.13079618, -0.79884557],\n",
       "       [-0.14819004, -0.22063919,  2.37441983,  1.72885507]])"
      ]
     },
     "execution_count": 53,
     "metadata": {},
     "output_type": "execute_result"
    }
   ],
   "source": [
    "classifier.coef_"
   ]
  },
  {
   "cell_type": "code",
   "execution_count": 54,
   "metadata": {},
   "outputs": [
    {
     "data": {
      "text/plain": [
       "array([  9.18415914,   1.72225452, -10.90641365])"
      ]
     },
     "execution_count": 54,
     "metadata": {},
     "output_type": "execute_result"
    }
   ],
   "source": [
    "classifier.intercept_ "
   ]
  },
  {
   "cell_type": "code",
   "execution_count": 55,
   "metadata": {},
   "outputs": [
    {
     "name": "stdout",
     "output_type": "stream",
     "text": [
      "[[9.78631752e-01 2.13679657e-02 2.82264015e-07]\n",
      " [9.67096231e-01 3.29033399e-02 4.29529833e-07]\n",
      " [9.82940067e-01 1.70597195e-02 2.13682553e-07]\n",
      " [9.73492887e-01 2.65065420e-02 5.71148228e-07]\n",
      " [9.82962574e-01 1.70371757e-02 2.49868740e-07]\n",
      " [9.66970510e-01 3.30280924e-02 1.39780491e-06]\n",
      " [9.85074602e-01 1.49250434e-02 3.54342638e-07]\n",
      " [9.73017105e-01 2.69824178e-02 4.77278238e-07]\n",
      " [9.77229068e-01 2.27705174e-02 4.14920677e-07]\n",
      " [9.64834164e-01 3.51653628e-02 4.72719816e-07]\n",
      " [9.72533006e-01 2.74665956e-02 3.98832567e-07]\n",
      " [9.72802454e-01 2.71968308e-02 7.15203270e-07]\n",
      " [9.70556684e-01 2.94429949e-02 3.21121087e-07]\n",
      " [9.90407381e-01 9.59254758e-03 7.10838661e-08]\n",
      " [9.84968969e-01 1.50309467e-02 8.45019400e-08]\n",
      " [9.84347002e-01 1.56526200e-02 3.77553645e-07]\n",
      " [9.85541731e-01 1.44580445e-02 2.24632211e-07]\n",
      " [9.78355657e-01 2.16439745e-02 3.68134055e-07]\n",
      " [9.50538894e-01 4.94598404e-02 1.26530981e-06]\n",
      " [9.81797943e-01 1.82016201e-02 4.37234811e-07]\n",
      " [9.40270112e-01 5.97285861e-02 1.30206527e-06]\n",
      " [9.79069422e-01 2.09299509e-02 6.27245693e-07]\n",
      " [9.95065667e-01 4.93429696e-03 3.55778385e-08]\n",
      " [9.47466209e-01 5.25308428e-02 2.94858315e-06]\n",
      " [9.49940002e-01 5.00572068e-02 2.79111834e-06]\n",
      " [9.45657033e-01 5.43418790e-02 1.08837401e-06]\n",
      " [9.66028224e-01 3.39704960e-02 1.27981176e-06]\n",
      " [9.71010131e-01 2.89894120e-02 4.57321643e-07]\n",
      " [9.73230035e-01 2.67696465e-02 3.18502602e-07]\n",
      " [9.68322338e-01 3.16768211e-02 8.41277389e-07]\n",
      " [9.60419939e-01 3.95791139e-02 9.46763927e-07]\n",
      " [9.59013691e-01 4.09854117e-02 8.97496603e-07]\n",
      " [9.86620092e-01 1.33797103e-02 1.98117814e-07]\n",
      " [9.86917567e-01 1.30822720e-02 1.60959988e-07]\n",
      " [9.64386279e-01 3.56131041e-02 6.16417811e-07]\n",
      " [9.81300506e-01 1.86993476e-02 1.46451247e-07]\n",
      " [9.74149715e-01 2.58500868e-02 1.98478581e-07]\n",
      " [9.84780646e-01 1.52191679e-02 1.86482776e-07]\n",
      " [9.83695252e-01 1.63045098e-02 2.38677582e-07]\n",
      " [9.70218277e-01 2.97812332e-02 4.89692340e-07]\n",
      " [9.84077763e-01 1.59220103e-02 2.26765442e-07]\n",
      " [9.56052211e-01 4.39471717e-02 6.17331381e-07]\n",
      " [9.87364552e-01 1.26352507e-02 1.97020516e-07]\n",
      " [9.69253219e-01 3.07447991e-02 1.98189667e-06]\n",
      " [9.58095060e-01 4.19014093e-02 3.53029141e-06]\n",
      " [9.69797510e-01 3.02019440e-02 5.46103584e-07]\n",
      " [9.77896862e-01 2.21026086e-02 5.29750926e-07]\n",
      " [9.80999405e-01 1.90002662e-02 3.28902480e-07]\n",
      " [9.75119882e-01 2.48797296e-02 3.88634699e-07]\n",
      " [9.75087279e-01 2.49123884e-02 3.32348815e-07]\n",
      " [2.89860157e-03 8.02396150e-01 1.94705248e-01]\n",
      " [7.67760698e-03 7.67233708e-01 2.25088685e-01]\n",
      " [1.47596584e-03 6.49454065e-01 3.49069969e-01]\n",
      " [2.09885573e-02 9.12042766e-01 6.69686767e-02]\n",
      " [3.32221931e-03 7.61523909e-01 2.35153872e-01]\n",
      " [9.79822878e-03 7.85865871e-01 2.04335900e-01]\n",
      " [4.79546368e-03 5.88116532e-01 4.07088005e-01]\n",
      " [1.78861039e-01 8.13390821e-01 7.74814037e-03]\n",
      " [3.89134435e-03 8.45093133e-01 1.51015523e-01]\n",
      " [5.46624295e-02 8.56325351e-01 8.90122194e-02]\n",
      " [7.11677259e-02 9.17020369e-01 1.18119051e-02]\n",
      " [1.99772088e-02 8.25536844e-01 1.54485947e-01]\n",
      " [1.22193916e-02 9.65445312e-01 2.23352967e-02]\n",
      " [4.26948587e-03 6.98347539e-01 2.97382975e-01]\n",
      " [9.26277694e-02 8.80700861e-01 2.66713696e-02]\n",
      " [7.07947895e-03 8.72482489e-01 1.20438033e-01]\n",
      " [1.15210301e-02 6.61654459e-01 3.26824511e-01]\n",
      " [2.25216099e-02 9.39633921e-01 3.78444692e-02]\n",
      " [2.68893006e-03 7.99392039e-01 1.97919031e-01]\n",
      " [3.19639763e-02 9.36081645e-01 3.19543785e-02]\n",
      " [2.90334366e-03 3.42296121e-01 6.54800536e-01]\n",
      " [2.21295604e-02 9.26467815e-01 5.14026245e-02]\n",
      " [1.13763645e-03 5.91318021e-01 4.07544342e-01]\n",
      " [4.39636955e-03 7.97201087e-01 1.98402544e-01]\n",
      " [9.59607505e-03 9.02393743e-01 8.80101823e-02]\n",
      " [6.85203986e-03 8.68226198e-01 1.24921763e-01]\n",
      " [1.61801235e-03 7.57525187e-01 2.40856800e-01]\n",
      " [8.44202734e-04 4.37537535e-01 5.61618262e-01]\n",
      " [7.45226110e-03 7.31222869e-01 2.61324870e-01]\n",
      " [7.58317842e-02 9.15618422e-01 8.54979388e-03]\n",
      " [3.83869973e-02 9.35698045e-01 2.59149577e-02]\n",
      " [4.80724605e-02 9.36251707e-01 1.56758324e-02]\n",
      " [3.31070138e-02 9.29296187e-01 3.75967995e-02]\n",
      " [7.42435590e-04 3.39634099e-01 6.59623465e-01]\n",
      " [1.33931793e-02 6.27766211e-01 3.58840609e-01]\n",
      " [1.23257067e-02 6.41826749e-01 3.45847544e-01]\n",
      " [3.07639723e-03 7.24054081e-01 2.72869522e-01]\n",
      " [3.93005993e-03 8.96128354e-01 9.99415858e-02]\n",
      " [3.61588421e-02 8.68812311e-01 9.50288468e-02]\n",
      " [2.69005279e-02 9.02511160e-01 7.05883125e-02]\n",
      " [1.24516082e-02 8.43502069e-01 1.44046322e-01]\n",
      " [6.36319629e-03 7.40358380e-01 2.53278424e-01]\n",
      " [2.35583388e-02 9.29625783e-01 4.68158786e-02]\n",
      " [1.47536293e-01 8.45211973e-01 7.25173399e-03]\n",
      " [1.98639434e-02 8.69054695e-01 1.11081362e-01]\n",
      " [2.72368162e-02 8.83167715e-01 8.95954687e-02]\n",
      " [2.31900065e-02 8.67070699e-01 1.09739294e-01]\n",
      " [1.15724632e-02 8.88183236e-01 1.00244301e-01]\n",
      " [2.74317504e-01 7.21957911e-01 3.72458482e-03]\n",
      " [2.58155734e-02 8.89297159e-01 8.48872680e-02]\n",
      " [2.64325407e-06 5.68728759e-03 9.94310069e-01]\n",
      " [4.43949795e-04 1.72404985e-01 8.27151065e-01]\n",
      " [6.97444281e-06 3.82952864e-02 9.61697739e-01]\n",
      " [6.64418934e-05 9.39679153e-02 9.05965643e-01]\n",
      " [1.02088077e-05 2.49960419e-02 9.74993749e-01]\n",
      " [2.45613040e-07 9.83476381e-03 9.90164991e-01]\n",
      " [8.28250353e-03 4.57885132e-01 5.33832364e-01]\n",
      " [2.09650862e-06 3.59314832e-02 9.64066420e-01]\n",
      " [1.60380611e-05 8.71646410e-02 9.12819321e-01]\n",
      " [1.72356834e-06 7.75278978e-03 9.92245487e-01]\n",
      " [4.46157072e-04 1.87213814e-01 8.12340029e-01]\n",
      " [1.50148686e-04 1.63656172e-01 8.36193679e-01]\n",
      " [4.60906797e-05 8.01446758e-02 9.19809233e-01]\n",
      " [4.57933725e-04 1.70680550e-01 8.28861516e-01]\n",
      " [1.48141401e-04 5.39763949e-02 9.45875464e-01]\n",
      " [9.52658625e-05 5.73167516e-02 9.42587983e-01]\n",
      " [1.05444072e-04 1.29973881e-01 8.69920675e-01]\n",
      " [2.53281701e-07 4.99253504e-03 9.95007212e-01]\n",
      " [2.38884737e-08 3.43688482e-03 9.96563091e-01]\n",
      " [7.15048175e-04 4.98981673e-01 5.00303279e-01]\n",
      " [1.33848323e-05 3.11571063e-02 9.68829509e-01]\n",
      " [9.87542534e-04 1.82622460e-01 8.16389997e-01]\n",
      " [1.61143202e-07 1.12782244e-02 9.88721614e-01]\n",
      " [9.32351510e-04 3.89175588e-01 6.09892061e-01]\n",
      " [2.62782983e-05 4.27319360e-02 9.57241786e-01]\n",
      " [1.12395332e-05 6.26362688e-02 9.37352492e-01]\n",
      " [1.58095343e-03 4.24075125e-01 5.74343921e-01]\n",
      " [1.44322232e-03 3.33550975e-01 6.65005802e-01]\n",
      " [2.76197378e-05 5.11834471e-02 9.48788933e-01]\n",
      " [3.53749873e-05 1.63006198e-01 8.36958427e-01]\n",
      " [3.51339236e-06 5.03694162e-02 9.49627070e-01]\n",
      " [1.60257936e-06 2.00029008e-02 9.79995497e-01]\n",
      " [2.14162199e-05 4.02113982e-02 9.59767186e-01]\n",
      " [8.25153919e-04 4.43975689e-01 5.55199157e-01]\n",
      " [1.31980200e-04 2.13081843e-01 7.86786177e-01]\n",
      " [1.39413190e-06 2.20560285e-02 9.77942577e-01]\n",
      " [2.37910650e-05 1.90667926e-02 9.80909416e-01]\n",
      " [1.21204603e-04 1.18595927e-01 8.81282869e-01]\n",
      " [2.21136120e-03 3.73780718e-01 6.24007920e-01]\n",
      " [7.63080956e-05 1.04475791e-01 8.95447901e-01]\n",
      " [1.56869294e-05 2.78204603e-02 9.72163853e-01]\n",
      " [1.74093794e-04 1.29820806e-01 8.70005100e-01]\n",
      " [4.43949795e-04 1.72404985e-01 8.27151065e-01]\n",
      " [5.54436188e-06 1.77910170e-02 9.82203439e-01]\n",
      " [9.32572399e-06 1.59817156e-02 9.84008959e-01]\n",
      " [1.09696864e-04 9.38553211e-02 9.06034982e-01]\n",
      " [4.30222741e-04 2.91108858e-01 7.08460919e-01]\n",
      " [2.38906338e-04 1.60390097e-01 8.39370996e-01]\n",
      " [7.89551516e-05 3.69757638e-02 9.62945281e-01]\n",
      " [7.22122811e-04 2.07841481e-01 7.91436396e-01]]\n"
     ]
    }
   ],
   "source": [
    "print(classifier.predict_proba(X))"
   ]
  },
  {
   "cell_type": "markdown",
   "metadata": {},
   "source": [
    "En este caso cada fila representa un dato y los valores representan la probabilidad de que pertenezcan a algun tipo de flor, por ejemplo, para la primera fila o primer dato la probabilidad de que pertenezca al primer tipo es cercano al 98%, esto dado al número que va en la primera columna, y así sucesivamente."
   ]
  },
  {
   "cell_type": "code",
   "execution_count": 56,
   "metadata": {},
   "outputs": [
    {
     "data": {
      "text/plain": [
       "array([[14,  0,  0],\n",
       "       [ 0, 17,  1],\n",
       "       [ 0,  0, 13]], dtype=int64)"
      ]
     },
     "execution_count": 56,
     "metadata": {},
     "output_type": "execute_result"
    }
   ],
   "source": [
    "from sklearn.metrics import confusion_matrix\n",
    "cf_matrix = confusion_matrix(y_test, y_pred)\n",
    "cf_matrix"
   ]
  },
  {
   "cell_type": "markdown",
   "metadata": {},
   "source": [
    "Para la clase 0 (la primera fila), hay 14 instancias que fueron clasificadas correctamente como clase 0 (verdaderos positivos). No hubo falsos positivos o falsos negativos en esta clase.\n",
    "Para la clase 1 (la segunda fila), hay 17 instancias que fueron clasificadas correctamente como clase 1 (verdaderos positivos). También hay 1 instancia que fue clasificada incorrectamente como clase 2 (falso negativo).\n",
    "Para la clase 2 (la tercera fila), hay 13 instancias que fueron clasificadas correctamente como clase 2 (verdaderos positivos). No hubo falsos positivos o falsos negativos en esta clase."
   ]
  },
  {
   "cell_type": "code",
   "execution_count": 57,
   "metadata": {},
   "outputs": [
    {
     "data": {
      "image/png": "[encoded data removed]",
      "text/plain": [
       "<Figure size 800x600 with 2 Axes>"
      ]
     },
     "metadata": {},
     "output_type": "display_data"
    }
   ],
   "source": [
    "plt.figure(figsize=(8, 6))\n",
    "sns.heatmap(pd.DataFrame(cf_matrix), annot=True, cmap=\"YlGnBu\" ,fmt='g')\n",
    "plt.title('Matriz de confusión')\n",
    "plt.ylabel('Etiqueta Real')\n",
    "plt.xlabel('Etiqueta Predicha')\n",
    "plt.show()"
   ]
  },
  {
   "cell_type": "code",
   "execution_count": 58,
   "metadata": {},
   "outputs": [
    {
     "data": {
      "text/plain": [
       "0.9777777777777777"
      ]
     },
     "execution_count": 58,
     "metadata": {},
     "output_type": "execute_result"
    }
   ],
   "source": [
    "from sklearn.metrics import accuracy_score\n",
    "accuracy_score(y_test,y_pred)"
   ]
  },
  {
   "cell_type": "markdown",
   "metadata": {},
   "source": [
    "Este puntaje de precisión se relaciona con lo anterior, este nos indica la precisión del modelo que como se evidenció con el análisis de la matriz de confusión es bastante alta, aproximadamente del 98% por lo que es un modelo muy preciso casi perfecto"
   ]
  },
  {
   "cell_type": "code",
   "execution_count": 59,
   "metadata": {},
   "outputs": [
    {
     "name": "stdout",
     "output_type": "stream",
     "text": [
      "              precision    recall  f1-score   support\n",
      "\n",
      "      Setosa       1.00      1.00      1.00        14\n",
      "  Versicolor       1.00      0.94      0.97        18\n",
      "   Virginica       0.93      1.00      0.96        13\n",
      "\n",
      "    accuracy                           0.98        45\n",
      "   macro avg       0.98      0.98      0.98        45\n",
      "weighted avg       0.98      0.98      0.98        45\n",
      "\n"
     ]
    }
   ],
   "source": [
    "target_names = ['Setosa', 'Versicolor', 'Virginica']\n",
    "print(classification_report(y_test, y_pred, target_names=target_names))"
   ]
  },
  {
   "cell_type": "markdown",
   "metadata": {},
   "source": [
    "Para finalizar, la columna de precisión indica los valores que fueron dados como positivos y efectivamente lo son, es decir, verdaderos positivos, por lo que se aprecia en general una precisión del modelo casi perfecta de no ser por el 93% de la clase de virginica, por otro lado, el recall indica la sensibilidad del modelo, es decir, las instancias positivas que fueron correctamente identificadas por el modelo, nuevamente, bastante positivo para el modelo, después, el f1-score indica la armonía general entre precisión y recall, un F1-score alto indica un buen equilibrio entre precisión y recall. Por último, el soporte es el número de instancias en cada clase en el conjunto de prueba."
   ]
  },
  {
   "cell_type": "code",
   "execution_count": null,
   "metadata": {},
   "outputs": [],
   "source": []
  }
 ],
 "metadata": {
  "kernelspec": {
   "display_name": "Python 3",
   "language": "python",
   "name": "python3"
  },
  "language_info": {
   "codemirror_mode": {
    "name": "ipython",
    "version": 3
   },
   "file_extension": ".py",
   "mimetype": "text/x-python",
   "name": "python",
   "nbconvert_exporter": "python",
   "pygments_lexer": "ipython3",
   "version": "3.11.5"
  }
 },
 "nbformat": 4,
 "nbformat_minor": 2
}
